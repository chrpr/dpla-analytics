{
 "cells": [
  {
   "cell_type": "code",
   "execution_count": 75,
   "metadata": {
    "collapsed": false
   },
   "outputs": [],
   "source": [
    "from IPython.html.widgets import interact, interactive, fixed\n",
    "from IPython.html import widgets\n",
    "from IPython.display import clear_output, display, HTML\n",
    "\n",
    "mode_widg = widgets.RadioButtons(\n",
    "    options=['text.proc', 'facet.proc'],\n",
    "                               )\n",
    "\n",
    "results_cap = widgets.RadioButtons(\n",
    "    options=['100', '500', 'all'],\n",
    "                                )\n",
    "\n",
    "facet_widg = widgets.RadioButtons(\n",
    "    options=['provider.name', 'sourceResource.format', 'sourceResource.spatial.name', 'sourceResource.subject.name'],\n",
    "                               )\n",
    "\n",
    "text_widg = widgets.Text(value=\"Search\")\n",
    "\n",
    "container = widgets.ContainerWidget(children=[text_widg, mode_widg, facet_widg, results_cap])\n",
    "\n",
    "display(container)\n"
   ]
  },
  {
   "cell_type": "code",
   "execution_count": 143,
   "metadata": {
    "collapsed": false
   },
   "outputs": [],
   "source": [
    "import json, requests\n",
    "\n",
    "with open (\"dpla.key.txt\", \"r\") as myfile:\n",
    "    key=myfile.read().replace('\\n','')\n",
    "    \n",
    "url = (\"http://api.dp.la/v2/items?q=\" + text_widg.value + \"&api_key=\" + key + \n",
    "        \"&facets=\" + facet_widg.value + \"&page_size=\" + results_cap.value)\n",
    "\n",
    "resp = requests.get(url=url)\n",
    "results = json.loads(resp.text)"
   ]
  },
  {
   "cell_type": "code",
   "execution_count": 87,
   "metadata": {
    "collapsed": false
   },
   "outputs": [
    {
     "data": {
      "text/plain": [
       "276"
      ]
     },
     "execution_count": 87,
     "metadata": {},
     "output_type": "execute_result"
    }
   ],
   "source": [
    "results['count']"
   ]
  },
  {
   "cell_type": "code",
   "execution_count": 49,
   "metadata": {
    "collapsed": false
   },
   "outputs": [
    {
     "data": {
      "text/plain": [
       "'http://api.dp.la/v2/items?q=kittens&api_key=58ecb0a79f4a704d43a9594d0bb435fb&facets=sourceResource.subject.name&page_size=500'"
      ]
     },
     "execution_count": 49,
     "metadata": {},
     "output_type": "execute_result"
    }
   ],
   "source": [
    "url"
   ]
  },
  {
   "cell_type": "code",
   "execution_count": 94,
   "metadata": {
    "collapsed": false
   },
   "outputs": [
    {
     "data": {
      "text/plain": [
       "{'sourceResource.spatial.name': {'_type': 'terms',\n",
       "  'missing': 169,\n",
       "  'other': 36,\n",
       "  'terms': [{'count': 10, 'term': 'USA'},\n",
       "   {'count': 8, 'term': 'United States'},\n",
       "   {'count': 8, 'term': 'New York'},\n",
       "   {'count': 8, 'term': 'Los Angeles'},\n",
       "   {'count': 6, 'term': 'Charleston (S.C.)'},\n",
       "   {'count': 6, 'term': 'Brooklyn, N.Y.'},\n",
       "   {'count': 4, 'term': 'Wisconsin'},\n",
       "   {'count': 4, 'term': 'New York (State), Western'},\n",
       "   {'count': 4, 'term': 'Erie County (N.Y.)'},\n",
       "   {'count': 4, 'term': 'Berkshire County'},\n",
       "   {'count': 4, 'term': 'Atlanta (Ga.)'},\n",
       "   {'count': 3, 'term': 'United States--New York (State)--New York (N.Y.)'},\n",
       "   {'count': 3, 'term': 'United States--New York (State)--Buffalo (N.Y.)'},\n",
       "   {'count': 3, 'term': 'United States--New Hampshire--Concord (N.H.)'},\n",
       "   {'count': 2, 'term': 'Virginia'},\n",
       "   {'count': 2, 'term': 'United States - Texas - Taylor County - Abilene'},\n",
       "   {'count': 2,\n",
       "    'term': 'United States - Tennessee - Claiborne County - Cumberland Gap'},\n",
       "   {'count': 2, 'term': 'U.K.'},\n",
       "   {'count': 2, 'term': 'Rockport'},\n",
       "   {'count': 2, 'term': 'New York, N.Y.'},\n",
       "   {'count': 2, 'term': 'Lenox'},\n",
       "   {'count': 2, 'term': 'Lee'},\n",
       "   {'count': 2, 'term': 'Hempstead, N.Y.'},\n",
       "   {'count': 2, 'term': 'Gloucester'},\n",
       "   {'count': 2, 'term': 'Georgetown County (S.C.)'},\n",
       "   {'count': 2, 'term': 'Essex County'},\n",
       "   {'count': 2, 'term': 'California'},\n",
       "   {'count': 2, 'term': 'Boston'},\n",
       "   {'count': 1, 'term': 's.d.]'},\n",
       "   {'count': 1, 'term': 'buildings: Ann Street Animal Shelter'},\n",
       "   {'count': 1, 'term': 'York, Pennsylvania, USA'},\n",
       "   {'count': 1, 'term': 'West Virginia'},\n",
       "   {'count': 1, 'term': 'Viet Nam'},\n",
       "   {'count': 1, 'term': 'Vernal, (Utah)'},\n",
       "   {'count': 1, 'term': 'United States - Washington - King County - Seattle'},\n",
       "   {'count': 1,\n",
       "    'term': 'United States - Texas - Williamson County - Georgetown'},\n",
       "   {'count': 1, 'term': 'United States - Texas - Wheeler County - Mobeetie'},\n",
       "   {'count': 1, 'term': 'United States - Texas - Wharton County'},\n",
       "   {'count': 1, 'term': 'United States - Texas - Travis County - Austin'},\n",
       "   {'count': 1, 'term': 'United States - Texas - Shackelford County'},\n",
       "   {'count': 1, 'term': 'United States - Texas'},\n",
       "   {'count': 1,\n",
       "    'term': 'United States - Oklahoma - Cleveland County - Norman'},\n",
       "   {'count': 1, 'term': 'United States - New York'},\n",
       "   {'count': 1, 'term': 'United States - Hawaii - Hawaii County - Hilo'},\n",
       "   {'count': 1, 'term': 'United States - District of Columbia - Washington'},\n",
       "   {'count': 1,\n",
       "    'term': 'United States - Connecticut - Fairfield County - Georgetown'},\n",
       "   {'count': 1,\n",
       "    'term': 'United States - California - San Diego County - San Diego'},\n",
       "   {'count': 1, 'term': 'Tin Cup Creek (Ravalli county, Montana)'},\n",
       "   {'count': 1, 'term': 'Than Hoa Bridge, Vietnam'},\n",
       "   {'count': 1, 'term': 'San Marino (Calif.)'}],\n",
       "  'total': 161}}"
      ]
     },
     "execution_count": 94,
     "metadata": {},
     "output_type": "execute_result"
    }
   ],
   "source": [
    "results['facets']"
   ]
  },
  {
   "cell_type": "code",
   "execution_count": 97,
   "metadata": {
    "collapsed": false
   },
   "outputs": [],
   "source": [
    "import pandas as pd\n",
    "\n",
    "facets = pd.DataFrame(results['facets'][facet_widg.value][\"terms\"])"
   ]
  },
  {
   "cell_type": "code",
   "execution_count": 98,
   "metadata": {
    "collapsed": false
   },
   "outputs": [
    {
     "data": {
      "text/html": [
       "<div>\n",
       "<table border=\"1\" class=\"dataframe\">\n",
       "  <thead>\n",
       "    <tr style=\"text-align: right;\">\n",
       "      <th></th>\n",
       "      <th>count</th>\n",
       "      <th>term</th>\n",
       "    </tr>\n",
       "  </thead>\n",
       "  <tbody>\n",
       "    <tr>\n",
       "      <th>0</th>\n",
       "      <td>10</td>\n",
       "      <td>USA</td>\n",
       "    </tr>\n",
       "    <tr>\n",
       "      <th>1</th>\n",
       "      <td>8</td>\n",
       "      <td>United States</td>\n",
       "    </tr>\n",
       "    <tr>\n",
       "      <th>2</th>\n",
       "      <td>8</td>\n",
       "      <td>New York</td>\n",
       "    </tr>\n",
       "    <tr>\n",
       "      <th>3</th>\n",
       "      <td>8</td>\n",
       "      <td>Los Angeles</td>\n",
       "    </tr>\n",
       "    <tr>\n",
       "      <th>4</th>\n",
       "      <td>6</td>\n",
       "      <td>Charleston (S.C.)</td>\n",
       "    </tr>\n",
       "    <tr>\n",
       "      <th>5</th>\n",
       "      <td>6</td>\n",
       "      <td>Brooklyn, N.Y.</td>\n",
       "    </tr>\n",
       "    <tr>\n",
       "      <th>6</th>\n",
       "      <td>4</td>\n",
       "      <td>Wisconsin</td>\n",
       "    </tr>\n",
       "    <tr>\n",
       "      <th>7</th>\n",
       "      <td>4</td>\n",
       "      <td>New York (State), Western</td>\n",
       "    </tr>\n",
       "    <tr>\n",
       "      <th>8</th>\n",
       "      <td>4</td>\n",
       "      <td>Erie County (N.Y.)</td>\n",
       "    </tr>\n",
       "    <tr>\n",
       "      <th>9</th>\n",
       "      <td>4</td>\n",
       "      <td>Berkshire County</td>\n",
       "    </tr>\n",
       "    <tr>\n",
       "      <th>10</th>\n",
       "      <td>4</td>\n",
       "      <td>Atlanta (Ga.)</td>\n",
       "    </tr>\n",
       "    <tr>\n",
       "      <th>11</th>\n",
       "      <td>3</td>\n",
       "      <td>United States--New York (State)--New York (N.Y.)</td>\n",
       "    </tr>\n",
       "    <tr>\n",
       "      <th>12</th>\n",
       "      <td>3</td>\n",
       "      <td>United States--New York (State)--Buffalo (N.Y.)</td>\n",
       "    </tr>\n",
       "    <tr>\n",
       "      <th>13</th>\n",
       "      <td>3</td>\n",
       "      <td>United States--New Hampshire--Concord (N.H.)</td>\n",
       "    </tr>\n",
       "    <tr>\n",
       "      <th>14</th>\n",
       "      <td>2</td>\n",
       "      <td>Virginia</td>\n",
       "    </tr>\n",
       "    <tr>\n",
       "      <th>15</th>\n",
       "      <td>2</td>\n",
       "      <td>United States - Texas - Taylor County - Abilene</td>\n",
       "    </tr>\n",
       "    <tr>\n",
       "      <th>16</th>\n",
       "      <td>2</td>\n",
       "      <td>United States - Tennessee - Claiborne County -...</td>\n",
       "    </tr>\n",
       "    <tr>\n",
       "      <th>17</th>\n",
       "      <td>2</td>\n",
       "      <td>U.K.</td>\n",
       "    </tr>\n",
       "    <tr>\n",
       "      <th>18</th>\n",
       "      <td>2</td>\n",
       "      <td>Rockport</td>\n",
       "    </tr>\n",
       "    <tr>\n",
       "      <th>19</th>\n",
       "      <td>2</td>\n",
       "      <td>New York, N.Y.</td>\n",
       "    </tr>\n",
       "    <tr>\n",
       "      <th>20</th>\n",
       "      <td>2</td>\n",
       "      <td>Lenox</td>\n",
       "    </tr>\n",
       "    <tr>\n",
       "      <th>21</th>\n",
       "      <td>2</td>\n",
       "      <td>Lee</td>\n",
       "    </tr>\n",
       "    <tr>\n",
       "      <th>22</th>\n",
       "      <td>2</td>\n",
       "      <td>Hempstead, N.Y.</td>\n",
       "    </tr>\n",
       "    <tr>\n",
       "      <th>23</th>\n",
       "      <td>2</td>\n",
       "      <td>Gloucester</td>\n",
       "    </tr>\n",
       "    <tr>\n",
       "      <th>24</th>\n",
       "      <td>2</td>\n",
       "      <td>Georgetown County (S.C.)</td>\n",
       "    </tr>\n",
       "    <tr>\n",
       "      <th>25</th>\n",
       "      <td>2</td>\n",
       "      <td>Essex County</td>\n",
       "    </tr>\n",
       "    <tr>\n",
       "      <th>26</th>\n",
       "      <td>2</td>\n",
       "      <td>California</td>\n",
       "    </tr>\n",
       "    <tr>\n",
       "      <th>27</th>\n",
       "      <td>2</td>\n",
       "      <td>Boston</td>\n",
       "    </tr>\n",
       "    <tr>\n",
       "      <th>28</th>\n",
       "      <td>1</td>\n",
       "      <td>s.d.]</td>\n",
       "    </tr>\n",
       "    <tr>\n",
       "      <th>29</th>\n",
       "      <td>1</td>\n",
       "      <td>buildings: Ann Street Animal Shelter</td>\n",
       "    </tr>\n",
       "    <tr>\n",
       "      <th>30</th>\n",
       "      <td>1</td>\n",
       "      <td>York, Pennsylvania, USA</td>\n",
       "    </tr>\n",
       "    <tr>\n",
       "      <th>31</th>\n",
       "      <td>1</td>\n",
       "      <td>West Virginia</td>\n",
       "    </tr>\n",
       "    <tr>\n",
       "      <th>32</th>\n",
       "      <td>1</td>\n",
       "      <td>Viet Nam</td>\n",
       "    </tr>\n",
       "    <tr>\n",
       "      <th>33</th>\n",
       "      <td>1</td>\n",
       "      <td>Vernal, (Utah)</td>\n",
       "    </tr>\n",
       "    <tr>\n",
       "      <th>34</th>\n",
       "      <td>1</td>\n",
       "      <td>United States - Washington - King County - Sea...</td>\n",
       "    </tr>\n",
       "    <tr>\n",
       "      <th>35</th>\n",
       "      <td>1</td>\n",
       "      <td>United States - Texas - Williamson County - Ge...</td>\n",
       "    </tr>\n",
       "    <tr>\n",
       "      <th>36</th>\n",
       "      <td>1</td>\n",
       "      <td>United States - Texas - Wheeler County - Mobeetie</td>\n",
       "    </tr>\n",
       "    <tr>\n",
       "      <th>37</th>\n",
       "      <td>1</td>\n",
       "      <td>United States - Texas - Wharton County</td>\n",
       "    </tr>\n",
       "    <tr>\n",
       "      <th>38</th>\n",
       "      <td>1</td>\n",
       "      <td>United States - Texas - Travis County - Austin</td>\n",
       "    </tr>\n",
       "    <tr>\n",
       "      <th>39</th>\n",
       "      <td>1</td>\n",
       "      <td>United States - Texas - Shackelford County</td>\n",
       "    </tr>\n",
       "    <tr>\n",
       "      <th>40</th>\n",
       "      <td>1</td>\n",
       "      <td>United States - Texas</td>\n",
       "    </tr>\n",
       "    <tr>\n",
       "      <th>41</th>\n",
       "      <td>1</td>\n",
       "      <td>United States - Oklahoma - Cleveland County - ...</td>\n",
       "    </tr>\n",
       "    <tr>\n",
       "      <th>42</th>\n",
       "      <td>1</td>\n",
       "      <td>United States - New York</td>\n",
       "    </tr>\n",
       "    <tr>\n",
       "      <th>43</th>\n",
       "      <td>1</td>\n",
       "      <td>United States - Hawaii - Hawaii County - Hilo</td>\n",
       "    </tr>\n",
       "    <tr>\n",
       "      <th>44</th>\n",
       "      <td>1</td>\n",
       "      <td>United States - District of Columbia - Washington</td>\n",
       "    </tr>\n",
       "    <tr>\n",
       "      <th>45</th>\n",
       "      <td>1</td>\n",
       "      <td>United States - Connecticut - Fairfield County...</td>\n",
       "    </tr>\n",
       "    <tr>\n",
       "      <th>46</th>\n",
       "      <td>1</td>\n",
       "      <td>United States - California - San Diego County ...</td>\n",
       "    </tr>\n",
       "    <tr>\n",
       "      <th>47</th>\n",
       "      <td>1</td>\n",
       "      <td>Tin Cup Creek (Ravalli county, Montana)</td>\n",
       "    </tr>\n",
       "    <tr>\n",
       "      <th>48</th>\n",
       "      <td>1</td>\n",
       "      <td>Than Hoa Bridge, Vietnam</td>\n",
       "    </tr>\n",
       "    <tr>\n",
       "      <th>49</th>\n",
       "      <td>1</td>\n",
       "      <td>San Marino (Calif.)</td>\n",
       "    </tr>\n",
       "  </tbody>\n",
       "</table>\n",
       "</div>"
      ],
      "text/plain": [
       "    count                                               term\n",
       "0      10                                                USA\n",
       "1       8                                      United States\n",
       "2       8                                           New York\n",
       "3       8                                        Los Angeles\n",
       "4       6                                  Charleston (S.C.)\n",
       "5       6                                     Brooklyn, N.Y.\n",
       "6       4                                          Wisconsin\n",
       "7       4                          New York (State), Western\n",
       "8       4                                 Erie County (N.Y.)\n",
       "9       4                                   Berkshire County\n",
       "10      4                                      Atlanta (Ga.)\n",
       "11      3   United States--New York (State)--New York (N.Y.)\n",
       "12      3    United States--New York (State)--Buffalo (N.Y.)\n",
       "13      3       United States--New Hampshire--Concord (N.H.)\n",
       "14      2                                           Virginia\n",
       "15      2    United States - Texas - Taylor County - Abilene\n",
       "16      2  United States - Tennessee - Claiborne County -...\n",
       "17      2                                               U.K.\n",
       "18      2                                           Rockport\n",
       "19      2                                     New York, N.Y.\n",
       "20      2                                              Lenox\n",
       "21      2                                                Lee\n",
       "22      2                                    Hempstead, N.Y.\n",
       "23      2                                         Gloucester\n",
       "24      2                           Georgetown County (S.C.)\n",
       "25      2                                       Essex County\n",
       "26      2                                         California\n",
       "27      2                                             Boston\n",
       "28      1                                              s.d.]\n",
       "29      1               buildings: Ann Street Animal Shelter\n",
       "30      1                            York, Pennsylvania, USA\n",
       "31      1                                      West Virginia\n",
       "32      1                                           Viet Nam\n",
       "33      1                                     Vernal, (Utah)\n",
       "34      1  United States - Washington - King County - Sea...\n",
       "35      1  United States - Texas - Williamson County - Ge...\n",
       "36      1  United States - Texas - Wheeler County - Mobeetie\n",
       "37      1             United States - Texas - Wharton County\n",
       "38      1     United States - Texas - Travis County - Austin\n",
       "39      1         United States - Texas - Shackelford County\n",
       "40      1                              United States - Texas\n",
       "41      1  United States - Oklahoma - Cleveland County - ...\n",
       "42      1                           United States - New York\n",
       "43      1      United States - Hawaii - Hawaii County - Hilo\n",
       "44      1  United States - District of Columbia - Washington\n",
       "45      1  United States - Connecticut - Fairfield County...\n",
       "46      1  United States - California - San Diego County ...\n",
       "47      1            Tin Cup Creek (Ravalli county, Montana)\n",
       "48      1                           Than Hoa Bridge, Vietnam\n",
       "49      1                                San Marino (Calif.)"
      ]
     },
     "execution_count": 98,
     "metadata": {},
     "output_type": "execute_result"
    }
   ],
   "source": [
    "facets"
   ]
  },
  {
   "cell_type": "code",
   "execution_count": 99,
   "metadata": {
    "collapsed": false,
    "scrolled": true
   },
   "outputs": [
    {
     "data": {
      "text/html": [
       "<iframe id=\"igraph\" scrolling=\"no\" style=\"border:none;\"seamless=\"seamless\" src=\"https://plot.ly/~chrpr/70.embed\" height=\"525px\" width=\"100%\"></iframe>"
      ],
      "text/plain": [
       "<plotly.tools.PlotlyDisplay object>"
      ]
     },
     "execution_count": 99,
     "metadata": {},
     "output_type": "execute_result"
    }
   ],
   "source": [
    "import plotly.plotly as py\n",
    "from plotly.graph_objs import *\n",
    "\n",
    "facets = facets.sort(['count'])\n",
    "\n",
    "data = Data([\n",
    "    Bar(\n",
    "        x=facets['term'],\n",
    "        y=facets['count']\n",
    "    )\n",
    "])\n",
    "#plot_url = py.plot(data, filename='basic-bar')\n",
    "py.iplot(data, filename = 'basic-bar')"
   ]
  },
  {
   "cell_type": "code",
   "execution_count": 100,
   "metadata": {
    "collapsed": false
   },
   "outputs": [],
   "source": [
    "%run text.extract.py"
   ]
  },
  {
   "cell_type": "code",
   "execution_count": 103,
   "metadata": {
    "collapsed": false
   },
   "outputs": [],
   "source": [
    "raw = \"\"\n",
    "records = []\n",
    "for doc in results[\"docs\"]:\n",
    "    text = item_parser(doc)\n",
    "    raw = raw + text + \"\\n\"\n",
    "    records.append(text)\n",
    "    #print(text)\n",
    "    "
   ]
  },
  {
   "cell_type": "code",
   "execution_count": 102,
   "metadata": {
    "collapsed": false
   },
   "outputs": [
    {
     "data": {
      "text/plain": [
       "276"
      ]
     },
     "execution_count": 102,
     "metadata": {},
     "output_type": "execute_result"
    }
   ],
   "source": [
    "len(records)"
   ]
  },
  {
   "cell_type": "code",
   "execution_count": 107,
   "metadata": {
    "collapsed": false
   },
   "outputs": [],
   "source": [
    "import nltk\n",
    "import pickle\n",
    "import re\n",
    "from nltk.corpus.reader import CategorizedPlaintextCorpusReader\n",
    "from nltk.corpus import stopwords\n",
    "from nltk import bigrams\n",
    "\n",
    "words = re.split('\\W+', raw)\n",
    "filtered = [w.lower() for w in words if w.lower() not in nltk.corpus.stopwords.words('english')]\n",
    "fd = nltk.FreqDist((token) for token in filtered)\n",
    "bgs = list(bigrams(filtered))\n",
    "bfd = nltk.FreqDist(bgs)\n",
    "cfd = nltk.ConditionalFreqDist(bgs)"
   ]
  },
  {
   "cell_type": "code",
   "execution_count": 108,
   "metadata": {
    "collapsed": false
   },
   "outputs": [
    {
     "data": {
      "text/plain": [
       "[('jl', 617),\n",
       " ('bm', 542),\n",
       " ('kittens', 353),\n",
       " ('yeah', 247),\n",
       " ('know', 186),\n",
       " ('little', 161),\n",
       " ('oh', 158),\n",
       " ('go', 141),\n",
       " ('would', 128),\n",
       " ('well', 127)]"
      ]
     },
     "execution_count": 108,
     "metadata": {},
     "output_type": "execute_result"
    }
   ],
   "source": [
    "fd.most_common(10)"
   ]
  },
  {
   "cell_type": "code",
   "execution_count": 109,
   "metadata": {
    "collapsed": false
   },
   "outputs": [
    {
     "data": {
      "text/plain": [
       "[(('jl', 'yeah'), 133),\n",
       " (('janet', 'quinney'), 84),\n",
       " (('quinney', 'lawson'), 84),\n",
       " (('oral', 'history'), 76),\n",
       " (('land', 'use'), 73),\n",
       " (('use', 'management'), 73),\n",
       " (('um', 'hmm'), 72),\n",
       " (('management', 'oral'), 71),\n",
       " (('project', 'janet'), 71),\n",
       " (('jl', 'oh'), 71)]"
      ]
     },
     "execution_count": 109,
     "metadata": {},
     "output_type": "execute_result"
    }
   ],
   "source": [
    "bfd.most_common(10)"
   ]
  },
  {
   "cell_type": "code",
   "execution_count": 110,
   "metadata": {
    "collapsed": false
   },
   "outputs": [
    {
     "data": {
      "text/plain": [
       "[('yeah', 133),\n",
       " ('oh', 71),\n",
       " ('well', 34),\n",
       " ('uh', 23),\n",
       " ('bm', 22),\n",
       " ('yes', 20),\n",
       " ('um', 14),\n",
       " ('know', 14),\n",
       " ('think', 10),\n",
       " ('right', 8)]"
      ]
     },
     "execution_count": 110,
     "metadata": {},
     "output_type": "execute_result"
    }
   ],
   "source": [
    "cfd[fd.most_common(1)[0][0]].most_common(10)"
   ]
  },
  {
   "cell_type": "code",
   "execution_count": null,
   "metadata": {
    "collapsed": false
   },
   "outputs": [],
   "source": []
  },
  {
   "cell_type": "code",
   "execution_count": 118,
   "metadata": {
    "collapsed": false
   },
   "outputs": [
    {
     "name": "stdout",
     "output_type": "stream",
     "text": [
      "circa 1873 Photographer located in Boston. Animals. Pets. Cats. Kittens \n"
     ]
    }
   ],
   "source": [
    "print(records[1])"
   ]
  },
  {
   "cell_type": "code",
   "execution_count": 120,
   "metadata": {
    "collapsed": false
   },
   "outputs": [],
   "source": [
    "from gensim import corpora, models, similarities\n",
    "import nltk\n",
    "from nltk.corpus.reader import CategorizedPlaintextCorpusReader\n",
    "from nltk.corpus import stopwords\n",
    "# remove common words and tokenize\n",
    "#stoplist = set('for a of the and to in'.split())\n",
    "stoplist = nltk.corpus.stopwords.words('english')\n",
    "texts = [[word for word in record.lower().split() if word not in stoplist]\n",
    "        for record in records]\n",
    "\n",
    "# remove words that appear only once\n",
    "from collections import defaultdict\n",
    "frequency = defaultdict(int)\n",
    "for text in texts:\n",
    "    for token in text:\n",
    "        frequency[token] += 1\n",
    "texts = [[token for token in text if frequency[token] > 1]\n",
    "         for text in texts]\n",
    "from pprint import pprint   # pretty-printer\n",
    "#pprint(texts[1:10])"
   ]
  },
  {
   "cell_type": "code",
   "execution_count": 147,
   "metadata": {
    "collapsed": false
   },
   "outputs": [],
   "source": [
    "dictionary = corpora.Dictionary(texts)\n",
    "corpus = [dictionary.doc2bow(text) for text in texts]\n",
    "lda = models.ldamodel.LdaModel(corpus=corpus, id2word=dictionary, \n",
    "                               num_topics=5, update_every=1, \n",
    "                               chunksize=10000, passes=10)"
   ]
  },
  {
   "cell_type": "code",
   "execution_count": 148,
   "metadata": {
    "collapsed": false
   },
   "outputs": [
    {
     "data": {
      "text/plain": [
       "['0.026*/ + 0.023*kittens + 0.013*fiction + 0.013*cats + 0.010*little + 0.009*children + 0.008*negative + 0.008*animals + 0.007*book + 0.007*three',\n",
       " '0.008*kittens + 0.008*new + 0.007*therapy + 0.006*service + 0.006*library + 0.005*dog + 0.004*advertising + 0.004*card + 0.004*angeles + 0.004*dr.',\n",
       " '0.025*kittens + 0.010*two + 0.009*(n.c.) + 0.009*cougar + 0.008*new + 0.007*little + 0.007*- + 0.007*animals + 0.007*card + 0.006*county',\n",
       " '0.041*jl: + 0.036*bm: + 0.020*– + 0.009*don’t + 0.008*it’s + 0.008*go + 0.007*that’s + 0.007*would + 0.007*yeah. + 0.006*yeah,',\n",
       " '0.013*- + 0.011*kittens + 0.010*golden + 0.009*little + 0.008*record + 0.007*records + 0.007*book + 0.006*united + 0.006*states + 0.006*cat']"
      ]
     },
     "execution_count": 148,
     "metadata": {},
     "output_type": "execute_result"
    }
   ],
   "source": [
    "lda.print_topics(5)"
   ]
  },
  {
   "cell_type": "code",
   "execution_count": 146,
   "metadata": {
    "collapsed": false
   },
   "outputs": [
    {
     "data": {
      "text/plain": [
       "['0.010*- + 0.008*two + 0.008*one + 0.008*kittens + 0.006*children + 0.005*kittens, + 0.005*united + 0.005*san + 0.004*film + 0.004*air',\n",
       " '0.013*little + 0.012*kittens + 0.008*book + 0.008*golden + 0.007*new + 0.007*therapy + 0.006*record + 0.006*records + 0.005*cats + 0.004*negative',\n",
       " '0.008*library + 0.008*service + 0.008*new + 0.007*fiction + 0.004*two + 0.004*kittens + 0.004*name + 0.004*special + 0.004*family + 0.003*also',\n",
       " '0.041*jl: + 0.035*bm: + 0.020*– + 0.009*don’t + 0.008*it’s + 0.008*go + 0.007*that’s + 0.007*would + 0.007*yeah. + 0.006*yeah,',\n",
       " '0.034*kittens + 0.015*/ + 0.012*- + 0.010*card + 0.010*cats + 0.008*animals + 0.008*(n.c.) + 0.007*cat + 0.007*cougar + 0.007*x']"
      ]
     },
     "execution_count": 146,
     "metadata": {},
     "output_type": "execute_result"
    }
   ],
   "source": [
    "lda.print_topics(5)"
   ]
  },
  {
   "cell_type": "code",
   "execution_count": 149,
   "metadata": {
    "collapsed": false,
    "scrolled": true
   },
   "outputs": [
    {
     "name": "stdout",
     "output_type": "stream",
     "text": [
      "[(0, 0.63263668038880927), (1, 0.025091002602462543), (2, 0.0253986509064749), (3, 0.025002193788302537), (4, 0.29187147231395089)]\n",
      "[(0, 0.95775112214025149), (1, 0.010581484643899535), (2, 0.010581058988939187), (3, 0.010529206463736911), (4, 0.01055712776317274)]\n",
      "[(2, 0.97029852825469309)]\n",
      "[(2, 0.9691568641364211)]\n",
      "[(2, 0.97135542152850796)]\n",
      "[(0, 0.86623838001698983), (1, 0.033466248416849559), (2, 0.033538440562674403), (3, 0.03333618237118547), (4, 0.033420748632300809)]\n",
      "[(2, 0.97030092833937054)]\n",
      "[(0, 0.8662384529998377), (1, 0.03346624777984715), (2, 0.033538369051601354), (3, 0.033336182363734784), (4, 0.033420747804979105)]\n",
      "[(0, 0.96176586887642856)]\n"
     ]
    }
   ],
   "source": [
    "for doc_bow in corpus[1:10]:\n",
    "    print(lda[doc_bow])"
   ]
  },
  {
   "cell_type": "code",
   "execution_count": 150,
   "metadata": {
    "collapsed": false,
    "scrolled": false
   },
   "outputs": [
    {
     "name": "stdout",
     "output_type": "stream",
     "text": [
      "['circa', 'photographer', 'located', 'animals.', 'pets.', 'cats.', 'kittens']\n",
      "[(0, 0.63261590210971663), (1, 0.025091000100592876), (2, 0.025383441903617819), (3, 0.025002193093936521), (4, 0.2919074627921362)]\n",
      "['title', 'information', 'provided', 'leslie', 'jones', 'boston', 'public', 'library', 'negative', 'negative', 'sleeve.', 'date', 'supplied', 'cataloger.', 'cats', 'baby', 'animals', 'kittens']\n",
      "[(0, 0.95775234692541444), (1, 0.0105810036696123), (2, 0.010580351893497736), (3, 0.010529206321135728), (4, 0.010557091190339696)]\n",
      "['1970s-1980s', 'cougar', 'cougar', 'kittens', 'grandfather', 'mountain,', 'nc', 'wildlife', 'habitat.', '1970-1979', '1980-1989', 'pumas', 'baby', 'animals', 'zoo', 'animals', 'grandfather', 'mountain', '(n.c.)', 'linville', '(n.c.)', 'avery', 'county', '(n.c.)', 'cougar', 'kittens']\n",
      "[(2, 0.97030098291477651)]\n",
      "['1970s-1980s', 'cougar', 'cougar', 'kittens', 'enclosure', 'grandfather', 'mountain,', 'nc.', '1970-1979', '1980-1989', 'pumas', 'zoo', 'animals', 'baby', 'animals', 'grandfather', 'mountain', '(n.c.)', 'linville', '(n.c.)', 'avery', 'county', '(n.c.)', 'cougar', 'kittens']\n",
      "[(2, 0.96915418706474121)]\n",
      "['1970s-1980s', 'cougar', 'cougar', 'kittens,', 'likely', 'grandfather', 'mountain,', 'nc', 'wildlife', 'habitat.', '1970-1979', '1980-1989', 'pumas', 'baby', 'animals', 'zoo', 'animals', 'grandfather', 'mountain', '(n.c.)', 'linville', '(n.c.)', 'avery', 'county', '(n.c.)', 'cougar', 'kittens']\n",
      "[(2, 0.97135543125859491)]\n",
      "['u.k.', 'cigarette', 'cards', 'studies', 'kittens']\n",
      "[(0, 0.8662382175216442), (1, 0.033466273346441276), (2, 0.033538577862353314), (3, 0.033336182389108918), (4, 0.033420748880452295)]\n",
      "['1970s-1980s', 'cougar', 'kittens', 'wildlife', 'habitat', 'grandfather', 'mountain,', 'nc.', '1970-1979', '1980-1989', 'pumas', 'baby', 'animals', 'autumn', 'zoo', 'animals', 'grandfather', 'mountain', '(n.c.)', 'linville', '(n.c.)', 'avery', 'county', '(n.c.)', 'cougar', 'kittens']\n",
      "[(2, 0.97029962816345705)]\n",
      "['u.k.', 'cigarette', 'cards', 'studies', 'kittens']\n",
      "[(0, 0.86623834701366165), (1, 0.03346628638520157), (2, 0.033538435484738179), (3, 0.03333618237705719), (4, 0.033420748739341526)]\n",
      "['1934-1956', 'title', 'information', 'provided', 'leslie', 'jones', 'boston', 'public', 'library', 'negative', 'negative', 'sleeve.', 'date', 'supplied', 'cataloger.', 'cats', 'baby', 'animals', 'cat', 'kittens']\n",
      "[(0, 0.96176562748531869)]\n"
     ]
    }
   ],
   "source": [
    "for text in texts[1:10]:\n",
    "    print(text)\n",
    "    print(lda[dictionary.doc2bow(text)])"
   ]
  },
  {
   "cell_type": "code",
   "execution_count": 155,
   "metadata": {
    "collapsed": false
   },
   "outputs": [
    {
     "name": "stdout",
     "output_type": "stream",
     "text": [
      "[(0, 0.04136557301673438), (1, 0.040314888447378114), (2, 0.040969189222580631), (3, 0.040130460320295692), (4, 0.83721988899301125)]\n"
     ]
    }
   ],
   "source": [
    "print(lda[dictionary.doc2bow(['little', 'golden', 'book', 'about', 'kittens'])])"
   ]
  },
  {
   "cell_type": "code",
   "execution_count": null,
   "metadata": {
    "collapsed": true
   },
   "outputs": [],
   "source": []
  }
 ],
 "metadata": {
  "kernelspec": {
   "display_name": "Python 3",
   "language": "python",
   "name": "python3"
  },
  "language_info": {
   "codemirror_mode": {
    "name": "ipython",
    "version": 3
   },
   "file_extension": ".py",
   "mimetype": "text/x-python",
   "name": "python",
   "nbconvert_exporter": "python",
   "pygments_lexer": "ipython3",
   "version": "3.3.5"
  }
 },
 "nbformat": 4,
 "nbformat_minor": 0
}
